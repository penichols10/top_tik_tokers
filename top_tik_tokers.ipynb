{
 "cells": [
  {
   "cell_type": "code",
   "execution_count": 73,
   "metadata": {},
   "outputs": [],
   "source": [
    "import numpy as np\n",
    "import pandas as pd\n",
    "import seaborn as sns\n",
    "import matplotlib.pyplot as plt"
   ]
  },
  {
   "cell_type": "markdown",
   "metadata": {},
   "source": [
    "# Load Data"
   ]
  },
  {
   "cell_type": "code",
   "execution_count": 74,
   "metadata": {},
   "outputs": [
    {
     "data": {
      "text/html": [
       "<div>\n",
       "<style scoped>\n",
       "    .dataframe tbody tr th:only-of-type {\n",
       "        vertical-align: middle;\n",
       "    }\n",
       "\n",
       "    .dataframe tbody tr th {\n",
       "        vertical-align: top;\n",
       "    }\n",
       "\n",
       "    .dataframe thead th {\n",
       "        text-align: right;\n",
       "    }\n",
       "</style>\n",
       "<table border=\"1\" class=\"dataframe\">\n",
       "  <thead>\n",
       "    <tr style=\"text-align: right;\">\n",
       "      <th></th>\n",
       "      <th>Rank</th>\n",
       "      <th>Username</th>\n",
       "      <th>Tiktok Link</th>\n",
       "      <th>Name</th>\n",
       "      <th>Subscribers Count</th>\n",
       "      <th>Views. Avg</th>\n",
       "      <th>Likes. Avg</th>\n",
       "      <th>Comments. Avg</th>\n",
       "      <th>Shares. Avg</th>\n",
       "    </tr>\n",
       "  </thead>\n",
       "  <tbody>\n",
       "    <tr>\n",
       "      <th>0</th>\n",
       "      <td>1</td>\n",
       "      <td>badbunny</td>\n",
       "      <td>https://www.tiktok.com/@badbunny</td>\n",
       "      <td>Bad Bunny</td>\n",
       "      <td>23.4M</td>\n",
       "      <td>63.1M</td>\n",
       "      <td>10.3M</td>\n",
       "      <td>65.2K</td>\n",
       "      <td>108.6K</td>\n",
       "    </tr>\n",
       "    <tr>\n",
       "      <th>1</th>\n",
       "      <td>2</td>\n",
       "      <td>noahschnapp</td>\n",
       "      <td>https://www.tiktok.com/@noahschnapp</td>\n",
       "      <td>Noah Schnapp</td>\n",
       "      <td>26.1M</td>\n",
       "      <td>23.4M</td>\n",
       "      <td>4.8M</td>\n",
       "      <td>46.7K</td>\n",
       "      <td>22.1K</td>\n",
       "    </tr>\n",
       "    <tr>\n",
       "      <th>2</th>\n",
       "      <td>3</td>\n",
       "      <td>khaby.lame</td>\n",
       "      <td>https://www.tiktok.com/@khaby.lame</td>\n",
       "      <td>Khabane lame</td>\n",
       "      <td>145.9M</td>\n",
       "      <td>47.5M</td>\n",
       "      <td>2.5M</td>\n",
       "      <td>46K</td>\n",
       "      <td>9.4K</td>\n",
       "    </tr>\n",
       "    <tr>\n",
       "      <th>3</th>\n",
       "      <td>4</td>\n",
       "      <td>coopernoriega</td>\n",
       "      <td>https://www.tiktok.com/@coopernoriega</td>\n",
       "      <td>Cooper Noriega</td>\n",
       "      <td>3.2M</td>\n",
       "      <td>31M</td>\n",
       "      <td>1.3M</td>\n",
       "      <td>120.9K</td>\n",
       "      <td>8.4K</td>\n",
       "    </tr>\n",
       "    <tr>\n",
       "      <th>4</th>\n",
       "      <td>5</td>\n",
       "      <td>avrillavigne</td>\n",
       "      <td>https://www.tiktok.com/@avrillavigne</td>\n",
       "      <td>Avril Lavigne</td>\n",
       "      <td>4M</td>\n",
       "      <td>24.7M</td>\n",
       "      <td>3.5M</td>\n",
       "      <td>32.1K</td>\n",
       "      <td>22.7K</td>\n",
       "    </tr>\n",
       "  </tbody>\n",
       "</table>\n",
       "</div>"
      ],
      "text/plain": [
       "   Rank       Username                            Tiktok Link            Name  \\\n",
       "0     1       badbunny       https://www.tiktok.com/@badbunny       Bad Bunny   \n",
       "1     2    noahschnapp    https://www.tiktok.com/@noahschnapp    Noah Schnapp   \n",
       "2     3     khaby.lame     https://www.tiktok.com/@khaby.lame    Khabane lame   \n",
       "3     4  coopernoriega  https://www.tiktok.com/@coopernoriega  Cooper Noriega   \n",
       "4     5   avrillavigne   https://www.tiktok.com/@avrillavigne   Avril Lavigne   \n",
       "\n",
       "  Subscribers Count Views. Avg Likes. Avg Comments. Avg Shares. Avg  \n",
       "0             23.4M      63.1M      10.3M         65.2K      108.6K  \n",
       "1             26.1M      23.4M       4.8M         46.7K       22.1K  \n",
       "2            145.9M      47.5M       2.5M           46K        9.4K  \n",
       "3              3.2M        31M       1.3M        120.9K        8.4K  \n",
       "4                4M      24.7M       3.5M         32.1K       22.7K  "
      ]
     },
     "execution_count": 74,
     "metadata": {},
     "output_type": "execute_result"
    }
   ],
   "source": [
    "df = pd.read_csv('top_1000_tiktokers.csv')\n",
    "df.head()"
   ]
  },
  {
   "cell_type": "code",
   "execution_count": 75,
   "metadata": {},
   "outputs": [
    {
     "data": {
      "text/html": [
       "<div>\n",
       "<style scoped>\n",
       "    .dataframe tbody tr th:only-of-type {\n",
       "        vertical-align: middle;\n",
       "    }\n",
       "\n",
       "    .dataframe tbody tr th {\n",
       "        vertical-align: top;\n",
       "    }\n",
       "\n",
       "    .dataframe thead th {\n",
       "        text-align: right;\n",
       "    }\n",
       "</style>\n",
       "<table border=\"1\" class=\"dataframe\">\n",
       "  <thead>\n",
       "    <tr style=\"text-align: right;\">\n",
       "      <th></th>\n",
       "      <th>Rank</th>\n",
       "      <th>Subscribers Count</th>\n",
       "      <th>Views. Avg</th>\n",
       "      <th>Likes. Avg</th>\n",
       "      <th>Comments. Avg</th>\n",
       "      <th>Shares. Avg</th>\n",
       "    </tr>\n",
       "  </thead>\n",
       "  <tbody>\n",
       "    <tr>\n",
       "      <th>0</th>\n",
       "      <td>1</td>\n",
       "      <td>23.4M</td>\n",
       "      <td>63.1M</td>\n",
       "      <td>10.3M</td>\n",
       "      <td>65.2K</td>\n",
       "      <td>108.6K</td>\n",
       "    </tr>\n",
       "    <tr>\n",
       "      <th>1</th>\n",
       "      <td>2</td>\n",
       "      <td>26.1M</td>\n",
       "      <td>23.4M</td>\n",
       "      <td>4.8M</td>\n",
       "      <td>46.7K</td>\n",
       "      <td>22.1K</td>\n",
       "    </tr>\n",
       "    <tr>\n",
       "      <th>2</th>\n",
       "      <td>3</td>\n",
       "      <td>145.9M</td>\n",
       "      <td>47.5M</td>\n",
       "      <td>2.5M</td>\n",
       "      <td>46K</td>\n",
       "      <td>9.4K</td>\n",
       "    </tr>\n",
       "    <tr>\n",
       "      <th>3</th>\n",
       "      <td>4</td>\n",
       "      <td>3.2M</td>\n",
       "      <td>31M</td>\n",
       "      <td>1.3M</td>\n",
       "      <td>120.9K</td>\n",
       "      <td>8.4K</td>\n",
       "    </tr>\n",
       "    <tr>\n",
       "      <th>4</th>\n",
       "      <td>5</td>\n",
       "      <td>4M</td>\n",
       "      <td>24.7M</td>\n",
       "      <td>3.5M</td>\n",
       "      <td>32.1K</td>\n",
       "      <td>22.7K</td>\n",
       "    </tr>\n",
       "  </tbody>\n",
       "</table>\n",
       "</div>"
      ],
      "text/plain": [
       "   Rank Subscribers Count Views. Avg Likes. Avg Comments. Avg Shares. Avg\n",
       "0     1             23.4M      63.1M      10.3M         65.2K      108.6K\n",
       "1     2             26.1M      23.4M       4.8M         46.7K       22.1K\n",
       "2     3            145.9M      47.5M       2.5M           46K        9.4K\n",
       "3     4              3.2M        31M       1.3M        120.9K        8.4K\n",
       "4     5                4M      24.7M       3.5M         32.1K       22.7K"
      ]
     },
     "execution_count": 75,
     "metadata": {},
     "output_type": "execute_result"
    }
   ],
   "source": [
    "df.drop(['Username', 'Tiktok Link', 'Name'], axis=1, inplace=True)\n",
    "df.head()"
   ]
  },
  {
   "cell_type": "markdown",
   "metadata": {},
   "source": [
    "## Fix Data Types"
   ]
  },
  {
   "cell_type": "code",
   "execution_count": 76,
   "metadata": {},
   "outputs": [
    {
     "data": {
      "text/plain": [
       "Rank                  int64\n",
       "Subscribers Count    object\n",
       "Views. Avg           object\n",
       "Likes. Avg           object\n",
       "Comments. Avg        object\n",
       "Shares. Avg          object\n",
       "dtype: object"
      ]
     },
     "execution_count": 76,
     "metadata": {},
     "output_type": "execute_result"
    }
   ],
   "source": [
    "df.dtypes"
   ]
  },
  {
   "cell_type": "code",
   "execution_count": 77,
   "metadata": {},
   "outputs": [
    {
     "name": "stdout",
     "output_type": "stream",
     "text": [
      "Unique suffixes for Subscribers Count: ['M', 'K']\n",
      "Unique suffixes for Views. Avg: ['M', 'K']\n",
      "Unique suffixes for Likes. Avg: ['M', 'K']\n",
      "Unique suffixes for Comments. Avg: ['K']\n",
      "Unique suffixes for Shares. Avg: ['K']\n"
     ]
    }
   ],
   "source": [
    "# non-target features\n",
    "x_cols = df.columns[1:]\n",
    "\n",
    "for col in x_cols:\n",
    "    col_suffixes = list(set([suffix for suffix in df[col].str[-1] if suffix.isalpha()]))\n",
    "    print(f'Unique suffixes for {col}: {col_suffixes}')"
   ]
  },
  {
   "cell_type": "code",
   "execution_count": 79,
   "metadata": {},
   "outputs": [
    {
     "name": "stdout",
     "output_type": "stream",
     "text": [
      "10.3K becomes 10300.0\n",
      "324.5M becomes 324500000.0\n",
      "123 becomes 123.0\n"
     ]
    }
   ],
   "source": [
    "def str_to_float(str_num):\n",
    "    if type(str_num) == str:\n",
    "        if str_num[-1] == 'M':\n",
    "            return float(str_num[:-1]) * 1_000_000\n",
    "        elif  str_num[-1] == 'K':\n",
    "            return float(str_num[:-1]) *1_000\n",
    "        else:\n",
    "            return float(str_num)\n",
    "    else:\n",
    "        return str_num\n",
    "\n",
    "thousand_ex = '10.3K'\n",
    "mill_ex = '324.5M'\n",
    "hund_ex = '123'\n",
    "\n",
    "print(f'{thousand_ex} becomes {str_to_float(thousand_ex)}')\n",
    "print(f'{mill_ex} becomes {str_to_float(mill_ex)}')\n",
    "print(f'{hund_ex} becomes {str_to_float(hund_ex)}')"
   ]
  },
  {
   "cell_type": "code",
   "execution_count": 80,
   "metadata": {},
   "outputs": [
    {
     "data": {
      "text/html": [
       "<div>\n",
       "<style scoped>\n",
       "    .dataframe tbody tr th:only-of-type {\n",
       "        vertical-align: middle;\n",
       "    }\n",
       "\n",
       "    .dataframe tbody tr th {\n",
       "        vertical-align: top;\n",
       "    }\n",
       "\n",
       "    .dataframe thead th {\n",
       "        text-align: right;\n",
       "    }\n",
       "</style>\n",
       "<table border=\"1\" class=\"dataframe\">\n",
       "  <thead>\n",
       "    <tr style=\"text-align: right;\">\n",
       "      <th></th>\n",
       "      <th>Rank</th>\n",
       "      <th>Subscribers Count</th>\n",
       "      <th>Views. Avg</th>\n",
       "      <th>Likes. Avg</th>\n",
       "      <th>Comments. Avg</th>\n",
       "      <th>Shares. Avg</th>\n",
       "    </tr>\n",
       "  </thead>\n",
       "  <tbody>\n",
       "    <tr>\n",
       "      <th>0</th>\n",
       "      <td>1</td>\n",
       "      <td>23400000.0</td>\n",
       "      <td>63100000.0</td>\n",
       "      <td>10300000.0</td>\n",
       "      <td>65200.0</td>\n",
       "      <td>108600.0</td>\n",
       "    </tr>\n",
       "    <tr>\n",
       "      <th>1</th>\n",
       "      <td>2</td>\n",
       "      <td>26100000.0</td>\n",
       "      <td>23400000.0</td>\n",
       "      <td>4800000.0</td>\n",
       "      <td>46700.0</td>\n",
       "      <td>22100.0</td>\n",
       "    </tr>\n",
       "    <tr>\n",
       "      <th>2</th>\n",
       "      <td>3</td>\n",
       "      <td>145900000.0</td>\n",
       "      <td>47500000.0</td>\n",
       "      <td>2500000.0</td>\n",
       "      <td>46000.0</td>\n",
       "      <td>9400.0</td>\n",
       "    </tr>\n",
       "    <tr>\n",
       "      <th>3</th>\n",
       "      <td>4</td>\n",
       "      <td>3200000.0</td>\n",
       "      <td>31000000.0</td>\n",
       "      <td>1300000.0</td>\n",
       "      <td>120900.0</td>\n",
       "      <td>8400.0</td>\n",
       "    </tr>\n",
       "    <tr>\n",
       "      <th>4</th>\n",
       "      <td>5</td>\n",
       "      <td>4000000.0</td>\n",
       "      <td>24700000.0</td>\n",
       "      <td>3500000.0</td>\n",
       "      <td>32100.0</td>\n",
       "      <td>22700.0</td>\n",
       "    </tr>\n",
       "  </tbody>\n",
       "</table>\n",
       "</div>"
      ],
      "text/plain": [
       "   Rank  Subscribers Count  Views. Avg  Likes. Avg  Comments. Avg  Shares. Avg\n",
       "0     1         23400000.0  63100000.0  10300000.0        65200.0     108600.0\n",
       "1     2         26100000.0  23400000.0   4800000.0        46700.0      22100.0\n",
       "2     3        145900000.0  47500000.0   2500000.0        46000.0       9400.0\n",
       "3     4          3200000.0  31000000.0   1300000.0       120900.0       8400.0\n",
       "4     5          4000000.0  24700000.0   3500000.0        32100.0      22700.0"
      ]
     },
     "execution_count": 80,
     "metadata": {},
     "output_type": "execute_result"
    }
   ],
   "source": [
    "for col in df.columns[1:]:\n",
    "    df[col] = df[col].map(lambda x: str_to_float(x))\n",
    "\n",
    "df.head()"
   ]
  },
  {
   "cell_type": "markdown",
   "metadata": {},
   "source": [
    "# Exploratory Data Analysis"
   ]
  },
  {
   "cell_type": "code",
   "execution_count": 81,
   "metadata": {},
   "outputs": [
    {
     "data": {
      "text/html": [
       "<div>\n",
       "<style scoped>\n",
       "    .dataframe tbody tr th:only-of-type {\n",
       "        vertical-align: middle;\n",
       "    }\n",
       "\n",
       "    .dataframe tbody tr th {\n",
       "        vertical-align: top;\n",
       "    }\n",
       "\n",
       "    .dataframe thead th {\n",
       "        text-align: right;\n",
       "    }\n",
       "</style>\n",
       "<table border=\"1\" class=\"dataframe\">\n",
       "  <thead>\n",
       "    <tr style=\"text-align: right;\">\n",
       "      <th></th>\n",
       "      <th>Subscribers Count</th>\n",
       "      <th>Views. Avg</th>\n",
       "      <th>Likes. Avg</th>\n",
       "      <th>Comments. Avg</th>\n",
       "      <th>Shares. Avg</th>\n",
       "    </tr>\n",
       "  </thead>\n",
       "  <tbody>\n",
       "    <tr>\n",
       "      <th>count</th>\n",
       "      <td>1.000000e+03</td>\n",
       "      <td>1.000000e+03</td>\n",
       "      <td>1.000000e+03</td>\n",
       "      <td>1000.000000</td>\n",
       "      <td>1000.000000</td>\n",
       "    </tr>\n",
       "    <tr>\n",
       "      <th>mean</th>\n",
       "      <td>6.906116e+06</td>\n",
       "      <td>3.330490e+06</td>\n",
       "      <td>3.995059e+05</td>\n",
       "      <td>3464.326000</td>\n",
       "      <td>3649.304000</td>\n",
       "    </tr>\n",
       "    <tr>\n",
       "      <th>std</th>\n",
       "      <td>1.139041e+07</td>\n",
       "      <td>3.514470e+06</td>\n",
       "      <td>4.632153e+05</td>\n",
       "      <td>6389.809003</td>\n",
       "      <td>6019.052223</td>\n",
       "    </tr>\n",
       "    <tr>\n",
       "      <th>min</th>\n",
       "      <td>3.700000e+03</td>\n",
       "      <td>6.679000e+05</td>\n",
       "      <td>4.570000e+04</td>\n",
       "      <td>0.000000</td>\n",
       "      <td>95.000000</td>\n",
       "    </tr>\n",
       "    <tr>\n",
       "      <th>25%</th>\n",
       "      <td>1.300000e+06</td>\n",
       "      <td>1.800000e+06</td>\n",
       "      <td>2.232500e+05</td>\n",
       "      <td>1200.000000</td>\n",
       "      <td>928.500000</td>\n",
       "    </tr>\n",
       "    <tr>\n",
       "      <th>50%</th>\n",
       "      <td>3.500000e+06</td>\n",
       "      <td>2.600000e+06</td>\n",
       "      <td>3.049000e+05</td>\n",
       "      <td>2000.000000</td>\n",
       "      <td>1900.000000</td>\n",
       "    </tr>\n",
       "    <tr>\n",
       "      <th>75%</th>\n",
       "      <td>7.925000e+06</td>\n",
       "      <td>3.700000e+06</td>\n",
       "      <td>4.372250e+05</td>\n",
       "      <td>3400.000000</td>\n",
       "      <td>3900.000000</td>\n",
       "    </tr>\n",
       "    <tr>\n",
       "      <th>max</th>\n",
       "      <td>1.459000e+08</td>\n",
       "      <td>6.310000e+07</td>\n",
       "      <td>1.030000e+07</td>\n",
       "      <td>120900.000000</td>\n",
       "      <td>108600.000000</td>\n",
       "    </tr>\n",
       "  </tbody>\n",
       "</table>\n",
       "</div>"
      ],
      "text/plain": [
       "       Subscribers Count    Views. Avg    Likes. Avg  Comments. Avg  \\\n",
       "count       1.000000e+03  1.000000e+03  1.000000e+03    1000.000000   \n",
       "mean        6.906116e+06  3.330490e+06  3.995059e+05    3464.326000   \n",
       "std         1.139041e+07  3.514470e+06  4.632153e+05    6389.809003   \n",
       "min         3.700000e+03  6.679000e+05  4.570000e+04       0.000000   \n",
       "25%         1.300000e+06  1.800000e+06  2.232500e+05    1200.000000   \n",
       "50%         3.500000e+06  2.600000e+06  3.049000e+05    2000.000000   \n",
       "75%         7.925000e+06  3.700000e+06  4.372250e+05    3400.000000   \n",
       "max         1.459000e+08  6.310000e+07  1.030000e+07  120900.000000   \n",
       "\n",
       "         Shares. Avg  \n",
       "count    1000.000000  \n",
       "mean     3649.304000  \n",
       "std      6019.052223  \n",
       "min        95.000000  \n",
       "25%       928.500000  \n",
       "50%      1900.000000  \n",
       "75%      3900.000000  \n",
       "max    108600.000000  "
      ]
     },
     "execution_count": 81,
     "metadata": {},
     "output_type": "execute_result"
    }
   ],
   "source": [
    "df[x_cols].describe()"
   ]
  },
  {
   "cell_type": "code",
   "execution_count": 106,
   "metadata": {},
   "outputs": [
    {
     "name": "stdout",
     "output_type": "stream",
     "text": [
      "Transforming Subscribers Count with lambda = 0.17466759525241948\n",
      "Transforming Views. Avg with lambda = -0.3552276470926497\n",
      "Transforming Likes. Avg with lambda = -0.18576848974199864\n",
      "Transforming Comments. Avg with lambda = 0.07319704734975091\n",
      "Transforming Shares. Avg with lambda = -0.04638530260865479\n"
     ]
    },
    {
     "name": "stderr",
     "output_type": "stream",
     "text": [
      "C:\\Users\\Patrick\\AppData\\Local\\Temp/ipykernel_11728/1533269314.py:14: UserWarning: To output multiple subplots, the figure containing the passed axes is being cleared\n",
      "  df_boxcox.hist(ax=ax)\n"
     ]
    },
    {
     "data": {
      "image/png": "[encoded data removed]",
      "text/plain": [
       "<Figure size 720x720 with 6 Axes>"
      ]
     },
     "metadata": {
      "needs_background": "light"
     },
     "output_type": "display_data"
    }
   ],
   "source": [
    "from scipy import stats\n",
    "def df_boxcox_transform(df):\n",
    "    df_vals = np.zeros(df.shape)\n",
    "    for i, col in enumerate(df.columns):\n",
    "        values, l = stats.boxcox(df[col]+1)\n",
    "        print(f'Transforming {col} with lambda = {l}')\n",
    "        df_vals[:, i] = values\n",
    "    df_transformed = pd.DataFrame(df_vals, columns=df.columns)\n",
    "    return df_transformed\n",
    "\n",
    "fig = plt.figure(figsize=(10,10))\n",
    "ax = fig.gca()\n",
    "df_boxcox = df_boxcox_transform(df[x_cols])\n",
    "df_boxcox.hist(ax=ax)\n",
    "plt.show()"
   ]
  },
  {
   "cell_type": "code",
   "execution_count": 147,
   "metadata": {},
   "outputs": [
    {
     "data": {
      "image/png": "[encoded data removed]",
      "text/plain": [
       "<Figure size 432x288 with 1 Axes>"
      ]
     },
     "metadata": {
      "needs_background": "light"
     },
     "output_type": "display_data"
    }
   ],
   "source": [
    "from sklearn.cluster import KMeans\n",
    "from sklearn.preprocessing import StandardScaler\n",
    "\n",
    "ss = StandardScaler()\n",
    "\n",
    "scaled_values = ss.fit_transform(df_boxcox)\n",
    "\n",
    "k_range = range(1, 21)\n",
    "\n",
    "sse = []\n",
    "for k in k_range:\n",
    "    kmeans = KMeans(k, random_state=123)\n",
    "    kmeans.fit(scaled_values)\n",
    "\n",
    "    sse.append(kmeans.inertia_)\n",
    "\n",
    "sns.lineplot(x=k_range, y=sse)\n",
    "sns.scatterplot(x=k_range, y=sse)\n",
    "\n",
    "plt.xticks(k_range)\n",
    "plt.show()"
   ]
  },
  {
   "cell_type": "code",
   "execution_count": 210,
   "metadata": {},
   "outputs": [],
   "source": [
    "kmeans = KMeans(3, random_state=123)\n",
    "kmeans.fit(scaled_values)\n",
    "\n",
    "df_scaled = pd.DataFrame(scaled_values, columns=x_cols)\n",
    "df_scaled['cluster assignment'] = kmeans.labels_"
   ]
  },
  {
   "cell_type": "code",
   "execution_count": 134,
   "metadata": {},
   "outputs": [
    {
     "data": {
      "text/html": [
       "<div>\n",
       "<style scoped>\n",
       "    .dataframe tbody tr th:only-of-type {\n",
       "        vertical-align: middle;\n",
       "    }\n",
       "\n",
       "    .dataframe tbody tr th {\n",
       "        vertical-align: top;\n",
       "    }\n",
       "\n",
       "    .dataframe thead tr th {\n",
       "        text-align: left;\n",
       "    }\n",
       "\n",
       "    .dataframe thead tr:last-of-type th {\n",
       "        text-align: right;\n",
       "    }\n",
       "</style>\n",
       "<table border=\"1\" class=\"dataframe\">\n",
       "  <thead>\n",
       "    <tr>\n",
       "      <th></th>\n",
       "      <th colspan=\"3\" halign=\"left\">Rank</th>\n",
       "      <th colspan=\"3\" halign=\"left\">Subscribers Count</th>\n",
       "      <th colspan=\"3\" halign=\"left\">Views. Avg</th>\n",
       "      <th colspan=\"3\" halign=\"left\">Likes. Avg</th>\n",
       "      <th colspan=\"3\" halign=\"left\">Comments. Avg</th>\n",
       "      <th colspan=\"3\" halign=\"left\">Shares. Avg</th>\n",
       "    </tr>\n",
       "    <tr>\n",
       "      <th></th>\n",
       "      <th>mean</th>\n",
       "      <th>std</th>\n",
       "      <th>count</th>\n",
       "      <th>mean</th>\n",
       "      <th>std</th>\n",
       "      <th>count</th>\n",
       "      <th>mean</th>\n",
       "      <th>std</th>\n",
       "      <th>count</th>\n",
       "      <th>mean</th>\n",
       "      <th>std</th>\n",
       "      <th>count</th>\n",
       "      <th>mean</th>\n",
       "      <th>std</th>\n",
       "      <th>count</th>\n",
       "      <th>mean</th>\n",
       "      <th>std</th>\n",
       "      <th>count</th>\n",
       "    </tr>\n",
       "    <tr>\n",
       "      <th>cluster assignment</th>\n",
       "      <th></th>\n",
       "      <th></th>\n",
       "      <th></th>\n",
       "      <th></th>\n",
       "      <th></th>\n",
       "      <th></th>\n",
       "      <th></th>\n",
       "      <th></th>\n",
       "      <th></th>\n",
       "      <th></th>\n",
       "      <th></th>\n",
       "      <th></th>\n",
       "      <th></th>\n",
       "      <th></th>\n",
       "      <th></th>\n",
       "      <th></th>\n",
       "      <th></th>\n",
       "      <th></th>\n",
       "    </tr>\n",
       "  </thead>\n",
       "  <tbody>\n",
       "    <tr>\n",
       "      <th>0</th>\n",
       "      <td>623.76</td>\n",
       "      <td>241.05</td>\n",
       "      <td>315</td>\n",
       "      <td>1875060.32</td>\n",
       "      <td>2312054.39</td>\n",
       "      <td>315</td>\n",
       "      <td>1785691.75</td>\n",
       "      <td>731533.76</td>\n",
       "      <td>315</td>\n",
       "      <td>218053.02</td>\n",
       "      <td>90206.61</td>\n",
       "      <td>315</td>\n",
       "      <td>2411.35</td>\n",
       "      <td>1850.78</td>\n",
       "      <td>315</td>\n",
       "      <td>5416.90</td>\n",
       "      <td>5707.20</td>\n",
       "      <td>315</td>\n",
       "    </tr>\n",
       "    <tr>\n",
       "      <th>1</th>\n",
       "      <td>590.92</td>\n",
       "      <td>223.18</td>\n",
       "      <td>475</td>\n",
       "      <td>7869168.63</td>\n",
       "      <td>8723429.28</td>\n",
       "      <td>475</td>\n",
       "      <td>2957045.68</td>\n",
       "      <td>1172214.18</td>\n",
       "      <td>475</td>\n",
       "      <td>329619.16</td>\n",
       "      <td>121658.71</td>\n",
       "      <td>475</td>\n",
       "      <td>1926.43</td>\n",
       "      <td>1598.70</td>\n",
       "      <td>475</td>\n",
       "      <td>1143.57</td>\n",
       "      <td>850.92</td>\n",
       "      <td>475</td>\n",
       "    </tr>\n",
       "    <tr>\n",
       "      <th>2</th>\n",
       "      <td>111.10</td>\n",
       "      <td>68.00</td>\n",
       "      <td>210</td>\n",
       "      <td>12274364.76</td>\n",
       "      <td>19243736.39</td>\n",
       "      <td>210</td>\n",
       "      <td>6492380.95</td>\n",
       "      <td>6415571.60</td>\n",
       "      <td>210</td>\n",
       "      <td>829762.38</td>\n",
       "      <td>856208.53</td>\n",
       "      <td>210</td>\n",
       "      <td>8522.38</td>\n",
       "      <td>12307.17</td>\n",
       "      <td>210</td>\n",
       "      <td>6665.64</td>\n",
       "      <td>9719.68</td>\n",
       "      <td>210</td>\n",
       "    </tr>\n",
       "  </tbody>\n",
       "</table>\n",
       "</div>"
      ],
      "text/plain": [
       "                      Rank               Subscribers Count                     \\\n",
       "                      mean     std count              mean          std count   \n",
       "cluster assignment                                                              \n",
       "0                   623.76  241.05   315        1875060.32   2312054.39   315   \n",
       "1                   590.92  223.18   475        7869168.63   8723429.28   475   \n",
       "2                   111.10   68.00   210       12274364.76  19243736.39   210   \n",
       "\n",
       "                    Views. Avg                   Likes. Avg                   \\\n",
       "                          mean         std count       mean        std count   \n",
       "cluster assignment                                                             \n",
       "0                   1785691.75   731533.76   315  218053.02   90206.61   315   \n",
       "1                   2957045.68  1172214.18   475  329619.16  121658.71   475   \n",
       "2                   6492380.95  6415571.60   210  829762.38  856208.53   210   \n",
       "\n",
       "                   Comments. Avg                 Shares. Avg                 \n",
       "                            mean       std count        mean      std count  \n",
       "cluster assignment                                                           \n",
       "0                        2411.35   1850.78   315     5416.90  5707.20   315  \n",
       "1                        1926.43   1598.70   475     1143.57   850.92   475  \n",
       "2                        8522.38  12307.17   210     6665.64  9719.68   210  "
      ]
     },
     "execution_count": 134,
     "metadata": {},
     "output_type": "execute_result"
    }
   ],
   "source": [
    "agg_cluster_stats = df.groupby('cluster assignment').agg(['mean', 'std', 'count']).round(2)\n",
    "agg_cluster_stats"
   ]
  },
  {
   "cell_type": "code",
   "execution_count": 174,
   "metadata": {},
   "outputs": [
    {
     "data": {
      "image/png": "[encoded data removed]",
      "text/plain": [
       "<Figure size 1080x720 with 6 Axes>"
      ]
     },
     "metadata": {
      "needs_background": "light"
     },
     "output_type": "display_data"
    }
   ],
   "source": [
    "fig, axes = plt.subplots(2, 3, figsize=(15,10))\n",
    "\n",
    "for col, ax in zip(df.columns, np.ravel(axes)):\n",
    "    x_ix = np.arange(agg_cluster_stats[col]['std'].shape[0])\n",
    "    ax.bar(x=x_ix-0.2, height=agg_cluster_stats[col]['mean'].values, width=0.4, label='Mean')\n",
    "    ax.bar(x=x_ix+0.2, height=agg_cluster_stats[col]['std'].values, width=0.4, label='Standard Deviation')\n",
    "    ax.set_xticks(ticks=x_ix)\n",
    "    ax.set_title(col)\n",
    "    ax.legend()"
   ]
  },
  {
   "cell_type": "markdown",
   "metadata": {},
   "source": [
    "From the above, the clusters can be described as followed:\n",
    "* The 0th cluster has a fairly low mean rank. Relative to the other clusters, it consists of users with the fewest subcribers and low mean numbers of views, likes, and comments. HOwever, it has a relatively high mean number of shares, albeit with a high standard deviation on the distribution of shares.\n",
    "* The 1st cluster has a similar mean rank to the 0th. However, it has a much lower mean number of average sharwes and higher subscriber counts and mean views. The mean number of average comments is similar to the 0th cluster.\n",
    "* The 2nd cluster has the lowest mean rank and an accompanying low standard deviation, meaning it consists of higher ranked users. It has high values for subscriber counts and mean number of average views, likes, comments and shares. However, all of these values have very high associated standard deviation."
   ]
  },
  {
   "cell_type": "code",
   "execution_count": 212,
   "metadata": {},
   "outputs": [
    {
     "data": {
      "text/plain": [
       "<AxesSubplot:>"
      ]
     },
     "execution_count": 212,
     "metadata": {},
     "output_type": "execute_result"
    },
    {
     "data": {
      "image/png": "[encoded data removed]",
      "text/plain": [
       "<Figure size 432x288 with 1 Axes>"
      ]
     },
     "metadata": {
      "needs_background": "light"
     },
     "output_type": "display_data"
    }
   ],
   "source": [
    "from sklearn.decomposition import PCA\n",
    "pca = PCA()\n",
    "df_pca = pd.DataFrame(pca.fit_transform(df_scaled), columns=[f'pc_{i+1}' for i in range(df_scaled.shape[1])])\n",
    "df_pca['cluster assignment'] = kmeans.labels_\n",
    "\n",
    "sns.lineplot(x=range(len(pca.explained_variance_ratio_)), y=pca.explained_variance_ratio_)\n",
    "sns.scatterplot(x=range(len(pca.explained_variance_ratio_)), y=pca.explained_variance_ratio_)"
   ]
  },
  {
   "cell_type": "code",
   "execution_count": 221,
   "metadata": {},
   "outputs": [
    {
     "data": {
      "text/plain": [
       "<AxesSubplot:xlabel='pc_1', ylabel='pc_2'>"
      ]
     },
     "execution_count": 221,
     "metadata": {},
     "output_type": "execute_result"
    },
    {
     "data": {
      "image/png": "[encoded data removed]",
      "text/plain": [
       "<Figure size 432x288 with 1 Axes>"
      ]
     },
     "metadata": {
      "needs_background": "light"
     },
     "output_type": "display_data"
    }
   ],
   "source": [
    "sns.scatterplot(data=df_pca, x='pc_1', y='pc_2', hue='cluster assignment', palette='tab10')"
   ]
  }
 ],
 "metadata": {
  "kernelspec": {
   "display_name": "Python 3.9.13 64-bit (windows store)",
   "language": "python",
   "name": "python3"
  },
  "language_info": {
   "codemirror_mode": {
    "name": "ipython",
    "version": 3
   },
   "file_extension": ".py",
   "mimetype": "text/x-python",
   "name": "python",
   "nbconvert_exporter": "python",
   "pygments_lexer": "ipython3",
   "version": "3.9.13"
  },
  "orig_nbformat": 4,
  "vscode": {
   "interpreter": {
    "hash": "f54c3508af21ff7bd3bd04a3c70cfc8631b77736188a8a2e019278c5f75b5a6a"
   }
  }
 },
 "nbformat": 4,
 "nbformat_minor": 2
}
